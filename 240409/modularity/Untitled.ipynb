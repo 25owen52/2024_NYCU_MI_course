{
 "cells": [
  {
   "cell_type": "code",
   "execution_count": 2,
   "id": "9b7bda38-d2ce-4b56-92d3-ba0150f9d004",
   "metadata": {},
   "outputs": [
    {
     "name": "stdout",
     "output_type": "stream",
     "text": [
      "2000\n",
      "[[ 0.6851533   1.17897583  3.52402492]\n",
      " [ 1.00216962  1.21572705 29.32701994]\n",
      " [ 1.15125728  3.32476951 23.614195  ]\n",
      " ...\n",
      " [90.13576705 15.58773776 34.16825421]\n",
      " [90.73121678 16.76765189 13.4218382 ]\n",
      " [89.09981586 18.50040944 13.39066304]]\n",
      "[[   0.            0.            0.        ]\n",
      " [1990.         1991.           22.309621  ]\n",
      " [1990.         1992.           13.86491392]\n",
      " [1990.         1993.           11.66889445]\n",
      " [1990.         1994.           20.26599121]\n",
      " [1990.         1995.           22.19431704]\n",
      " [1990.         1996.           19.10742307]\n",
      " [1990.         1997.            9.80718966]\n",
      " [1990.         1998.           12.94068655]\n",
      " [1991.         1992.            8.45461044]\n",
      " [1991.         1993.           10.86650845]\n",
      " [1991.         1994.            2.55244555]\n",
      " [1991.         1995.            2.92466907]\n",
      " [1991.         1996.            6.23355516]\n",
      " [1991.         1997.           31.38323101]\n",
      " [1991.         1998.           11.36444709]\n",
      " [1992.         1993.            2.62959296]\n",
      " [1992.         1994.            6.47494256]\n",
      " [1992.         1995.            8.62919969]\n",
      " [1992.         1996.            6.56130888]\n",
      " [1992.         1997.           23.0060612 ]\n",
      " [1992.         1998.            4.96704555]\n",
      " [1993.         1994.            8.70741973]\n",
      " [1993.         1995.           10.80296906]\n",
      " [1993.         1996.            7.82385316]\n",
      " [1993.         1997.           20.57493395]\n",
      " [1993.         1998.            3.78565117]\n",
      " [1994.         1995.            2.57093412]\n",
      " [1994.         1996.            3.87230367]\n",
      " [1994.         1997.           29.12646302]\n",
      " [1994.         1998.            8.86170876]]\n"
     ]
    }
   ],
   "source": [
    "\n",
    "import numpy as np\n",
    "import pandas as pd\n",
    "import scipy.io\n",
    "\n",
    "XYZ_Coord = scipy.io.loadmat('data\\XYZcoord1.mat')\n",
    "XYZ_C = np.array(XYZ_Coord ['XYZ1'])\n",
    "XYZ_C\n",
    "print(len(XYZ_C))\n",
    "print(XYZ_C)\n",
    "\n",
    "import math as mt\n",
    "import random as rd\n",
    "\n",
    "#預先定義歐是距離函數\n",
    "def dist(a,b):\n",
    "    r2 = (a[0]-b[0])**2+(a[1]-b[1])**2+(a[2]-b[2])**2\n",
    "    r = mt.sqrt(r2)\n",
    "    return r\n",
    "#先設一個list 來存放點對點歐式距離的結果與資訊\n",
    "Euclidean_Edges=[0,0,0]\n",
    "\n",
    "for i in range(1990,1995):  #從第一點到倒數第二點計算\n",
    "    p1=XYZ_C[i]\n",
    "    for j in range(i+1,len(XYZ_C)-1):\n",
    "        p2=XYZ_C[j]\n",
    "        source=i\n",
    "        Target=j\n",
    "        Weight=dist(p1,p2)\n",
    "        pp=[source,Target,Weight]\n",
    "        Euclidean_Edges=np.vstack((Euclidean_Edges,pp))\n",
    "print(Euclidean_Edges)\n",
    "\n"
   ]
  },
  {
   "cell_type": "code",
   "execution_count": null,
   "id": "804c50fc-79c9-488c-82a7-b020500d8dd4",
   "metadata": {},
   "outputs": [],
   "source": []
  }
 ],
 "metadata": {
  "kernelspec": {
   "display_name": "Python 3 (ipykernel)",
   "language": "python",
   "name": "python3"
  },
  "language_info": {
   "codemirror_mode": {
    "name": "ipython",
    "version": 3
   },
   "file_extension": ".py",
   "mimetype": "text/x-python",
   "name": "python",
   "nbconvert_exporter": "python",
   "pygments_lexer": "ipython3",
   "version": "3.9.18"
  }
 },
 "nbformat": 4,
 "nbformat_minor": 5
}
